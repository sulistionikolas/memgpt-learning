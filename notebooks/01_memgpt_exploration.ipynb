{
 "cells": [
  {
   "cell_type": "code",
   "execution_count": 51,
   "id": "e9acc89b",
   "metadata": {},
   "outputs": [],
   "source": [
    "import sys\n",
    "import os\n",
    "\n",
    "sys.path.append(os.path.abspath(\"..\"))"
   ]
  },
  {
   "cell_type": "code",
   "execution_count": 52,
   "id": "38a03aab",
   "metadata": {},
   "outputs": [],
   "source": [
    "from llm_interface import query_llm\n",
    "from memory.context import WorkingContext"
   ]
  },
  {
   "cell_type": "code",
   "execution_count": 53,
   "id": "e620dee6",
   "metadata": {},
   "outputs": [],
   "source": [
    "# Initialize memory\n",
    "context = WorkingContext(max_size=5)"
   ]
  },
  {
   "cell_type": "code",
   "execution_count": 54,
   "id": "2e682995",
   "metadata": {},
   "outputs": [],
   "source": [
    "def add_and_manage_memory(prompt: str):\n",
    "    response = query_llm(prompt)\n",
    "\n",
    "    # Add prompt + response to context\n",
    "    for item in [f\"[User] {prompt}\", f\"[LLM] {response}\"]:\n",
    "        if len(context.get_context()) >= context.max_size:\n",
    "            evicted = context.get_context()[0]  # What will be evicted\n",
    "            save_to_recall(evicted)\n",
    "        context.add(item)\n",
    "\n",
    "    # Print memory state\n",
    "    print(\"🧠 Working Context:\")\n",
    "    print(context)\n",
    "    print(\"\\n📁 Recall Memory:\")\n",
    "    print(load_recall())"
   ]
  },
  {
   "cell_type": "code",
   "execution_count": 55,
   "id": "058b735a",
   "metadata": {},
   "outputs": [
    {
     "name": "stdout",
     "output_type": "stream",
     "text": [
      "🧠 Working Context:\n",
      "[User] Hey bro, my name is Nikolas.\\n[LLM]  Hello Nikolas! Nice to meet you! How can I help you today? If you have any questions or need assistance with something, feel free to ask. I'm here to help!\n",
      "\n",
      "📁 Recall Memory:\n"
     ]
    },
    {
     "ename": "NameError",
     "evalue": "name 'load_recall' is not defined",
     "output_type": "error",
     "traceback": [
      "\u001b[31m---------------------------------------------------------------------------\u001b[39m",
      "\u001b[31mNameError\u001b[39m                                 Traceback (most recent call last)",
      "\u001b[36mCell\u001b[39m\u001b[36m \u001b[39m\u001b[32mIn[55]\u001b[39m\u001b[32m, line 1\u001b[39m\n\u001b[32m----> \u001b[39m\u001b[32m1\u001b[39m \u001b[43madd_and_manage_memory\u001b[49m\u001b[43m(\u001b[49m\u001b[33;43m\"\u001b[39;49m\u001b[33;43mHey bro, my name is Nikolas.\u001b[39;49m\u001b[33;43m\"\u001b[39;49m\u001b[43m)\u001b[49m\n",
      "\u001b[36mCell\u001b[39m\u001b[36m \u001b[39m\u001b[32mIn[54]\u001b[39m\u001b[32m, line 15\u001b[39m, in \u001b[36madd_and_manage_memory\u001b[39m\u001b[34m(prompt)\u001b[39m\n\u001b[32m     13\u001b[39m \u001b[38;5;28mprint\u001b[39m(context)\n\u001b[32m     14\u001b[39m \u001b[38;5;28mprint\u001b[39m(\u001b[33m\"\u001b[39m\u001b[38;5;130;01m\\n\u001b[39;00m\u001b[33m📁 Recall Memory:\u001b[39m\u001b[33m\"\u001b[39m)\n\u001b[32m---> \u001b[39m\u001b[32m15\u001b[39m \u001b[38;5;28mprint\u001b[39m(\u001b[43mload_recall\u001b[49m())\n",
      "\u001b[31mNameError\u001b[39m: name 'load_recall' is not defined"
     ]
    }
   ],
   "source": [
    "add_and_manage_memory(\"Hey bro, my name is Nikolas.\")"
   ]
  },
  {
   "cell_type": "code",
   "execution_count": null,
   "id": "89dd4fee",
   "metadata": {},
   "outputs": [],
   "source": [
    "# 🔁 Try a few prompts\n",
    "add_and_manage_memory(\"What is virtual memory?\")\n",
    "add_and_manage_memory(\"Why do operating systems need paging?\")\n",
    "add_and_manage_memory(\"Explain the FIFO page replacement algorithm.\")\n",
    "add_and_manage_memory(\"How does LRU differ from FIFO?\")"
   ]
  }
 ],
 "metadata": {
  "kernelspec": {
   "display_name": ".venv",
   "language": "python",
   "name": "python3"
  },
  "language_info": {
   "codemirror_mode": {
    "name": "ipython",
    "version": 3
   },
   "file_extension": ".py",
   "mimetype": "text/x-python",
   "name": "python",
   "nbconvert_exporter": "python",
   "pygments_lexer": "ipython3",
   "version": "3.12.10"
  }
 },
 "nbformat": 4,
 "nbformat_minor": 5
}
