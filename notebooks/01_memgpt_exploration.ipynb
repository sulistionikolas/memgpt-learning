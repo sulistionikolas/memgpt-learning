{
 "cells": [
  {
   "cell_type": "code",
   "execution_count": 56,
   "id": "e9acc89b",
   "metadata": {},
   "outputs": [],
   "source": [
    "import sys\n",
    "import os\n",
    "\n",
    "sys.path.append(os.path.abspath(\"..\"))"
   ]
  },
  {
   "cell_type": "code",
   "execution_count": 57,
   "id": "38a03aab",
   "metadata": {},
   "outputs": [],
   "source": [
    "from llm_interface import query_llm\n",
    "from memory.context import WorkingContext\n",
    "from memory.recall_storage import save_to_recall, load_recall"
   ]
  },
  {
   "cell_type": "code",
   "execution_count": 58,
   "id": "e620dee6",
   "metadata": {},
   "outputs": [],
   "source": [
    "# Initialize memory\n",
    "context = WorkingContext(max_size=5)"
   ]
  },
  {
   "cell_type": "code",
   "execution_count": 65,
   "id": "63d67bc9",
   "metadata": {},
   "outputs": [
    {
     "data": {
      "text/plain": [
       "[\"[LLM]  Here's a recipe for a classic Lasagna Verde (Spinach Lasagna) with a few tweaks to make it more gourmet, inspired by the Michelin-starred Italian cuisine. This dish is rich, flavorful, and has a beautiful presentation.\\n\\n**Ingredients:**\\n\\n* 1 lb fresh spinach leaves\\n* 2 lbs fresh pasta dough (lasagna sheets)\\n* 3 cups whole milk\\n* 1 cup heavy cream\\n* 1 lb Italian Parmigiano-Reggiano cheese, finely grated\\n* 1 lb Mortadella, finely sliced\\n* 1 lb Prosciutto di Parma, thinly sliced\\n* 2 lbs fresh ricotta cheese\\n* 4 large eggs\\n* Salt and black pepper to taste\\n* Nutmeg, freshly grated, to taste\\n* 3 tablespoons unsalted butter\\n* 1 small onion, finely chopped\\n* 1 clove garlic, minced\\n* 1 cup dry white wine\\n* 2 cups chicken stock\\n* 1/4 cup all-purpose flour\\n* Extra virgin olive oil, for drizzling\\n\\n**Instructions:**\\n\\n1. To make the spinach puree, blanch the spinach in boiling salted water until wilted. Drain and transfer to a food processor or blender, and process until smooth. Set aside.\\n\\n2. Prepare your fresh pasta dough and roll out the lasagna sheets accordingly. Cook the pasta sheets al dente.\\n\\n3. In a large saucepan, melt butter over medium heat. Add onion, garlic, and sauté until softened, about 5 minutes.\\n\\n4. Stir in flour to make a roux, cooking for about 1 minute. Gradually whisk in milk, heavy cream, white wine, chicken stock, salt, pepper, and a pinch of nutmeg. Simmer until the sauce has thickened. Remove from heat and stir in half of the grated Parmigiano-Reggiano cheese.\\n\\n5. In a bowl, combine ricotta cheese, eggs, spinach puree, salt, pepper, and nutmeg. Mix well.\\n\\n6. To assemble the lasagna: Spread a thin layer of béchamel sauce at the bottom of a large baking dish. Arrange 3-4 lasagna sheets on top, followed by a layer of the ricotta mixture, slices of Mortadella and Prosciutto, and more béchamel sauce. Repeat layers until all ingredients are used up, ending with a final layer of béchamel sauce.\\n\\n7. Drizzle olive oil over the top layer and sprinkle with remaining Parmigiano-Reggiano cheese.\\n\\n8. Bake in a preheated oven at 350°F (180°C) for about 40 minutes, or until the top is golden brown and bubbly. Let it rest for a few minutes before serving.\\n\\n9. Serve with a side salad of arugula, shaved Parmigiano-Reggiano, and lemon vinaigrette to complement the rich flavors of the lasagna.\\n\\nEnjoy this gourmet Lasagna Verde and impress your guests with its luxurious taste and appearance!\",\n",
       " '[User] Please change it to grams instead of lb and cup and tablespoons.',\n",
       " '[LLM]  Sure! Here are the conversions for common kitchen measurements from pounds (lb), cups, and tablespoons (tbsp) to grams (g):\\n\\n1 pound (lb) = approximately 453.592 grams (g)\\n1 cup (US dry) = approximately 226.8 grams (g)\\n1 tablespoon (tbsp) = approximately 14.79 grams (g)\\n\\nFor example, if a recipe calls for 1 cup of flour, you would use around 226.8 grams instead. If it calls for 3 tablespoons of butter, you would use about 44.37 grams.',\n",
       " '[User] What is my name? And what have we tried to achieve so far?',\n",
       " \"[LLM]  I'm sorry for any confusion, but as a text-based AI model, I don't have the ability to know personal names. As for what we've tried to achieve so far, it seems that our main objective has been to engage in helpful and informative conversations on a wide range of topics. We strive to provide accurate information, foster learning, and assist with various questions or tasks to the best of my abilities. If there's something specific you'd like to discuss or explore, feel free to ask!\"]"
      ]
     },
     "execution_count": 65,
     "metadata": {},
     "output_type": "execute_result"
    }
   ],
   "source": [
    "context.get_context()"
   ]
  },
  {
   "cell_type": "code",
   "execution_count": 59,
   "id": "2e682995",
   "metadata": {},
   "outputs": [],
   "source": [
    "def add_and_manage_memory(prompt: str):\n",
    "    response = query_llm(prompt)\n",
    "\n",
    "    # Add prompt + response to context\n",
    "    for item in [f\"[User] {prompt}\", f\"[LLM] {response}\"]:\n",
    "        if len(context.get_context()) >= context.max_size:\n",
    "            evicted = context.get_context()[0]  # What will be evicted\n",
    "            save_to_recall(evicted)\n",
    "        context.add(item)\n",
    "\n",
    "    # Print memory state\n",
    "    print(\"🧠 Working Context:\")\n",
    "    print(context)\n",
    "    print(\"\\n📁 Recall Memory:\")\n",
    "    print(load_recall())"
   ]
  },
  {
   "cell_type": "code",
   "execution_count": 60,
   "id": "058b735a",
   "metadata": {},
   "outputs": [
    {
     "name": "stdout",
     "output_type": "stream",
     "text": [
      "🧠 Working Context:\n",
      "[User] Hey bro, my name is Nikolas.\\n[LLM]  Hey Nikolas! How can I assist you today? Remember, I'm here to help answer your questions and provide information on a wide variety of topics. If you have any specific inquiries or if there's something particular you'd like to discuss, feel free to ask away!\n",
      "\n",
      "📁 Recall Memory:\n",
      "[]\n"
     ]
    }
   ],
   "source": [
    "add_and_manage_memory(\"Hey bro, my name is Nikolas.\")"
   ]
  },
  {
   "cell_type": "code",
   "execution_count": 61,
   "id": "e6d87ea9",
   "metadata": {},
   "outputs": [
    {
     "name": "stdout",
     "output_type": "stream",
     "text": [
      "🧠 Working Context:\n",
      "[User] Hey bro, my name is Nikolas.\\n[LLM]  Hey Nikolas! How can I assist you today? Remember, I'm here to help answer your questions and provide information on a wide variety of topics. If you have any specific inquiries or if there's something particular you'd like to discuss, feel free to ask away!\\n[User] Please give me your best 3 michelin star recipe for lasagna.\\n[LLM]  Here's a recipe for a classic Lasagna Verde (Spinach Lasagna) with a few tweaks to make it more gourmet, inspired by the Michelin-starred Italian cuisine. This dish is rich, flavorful, and has a beautiful presentation.\n",
      "\n",
      "**Ingredients:**\n",
      "\n",
      "* 1 lb fresh spinach leaves\n",
      "* 2 lbs fresh pasta dough (lasagna sheets)\n",
      "* 3 cups whole milk\n",
      "* 1 cup heavy cream\n",
      "* 1 lb Italian Parmigiano-Reggiano cheese, finely grated\n",
      "* 1 lb Mortadella, finely sliced\n",
      "* 1 lb Prosciutto di Parma, thinly sliced\n",
      "* 2 lbs fresh ricotta cheese\n",
      "* 4 large eggs\n",
      "* Salt and black pepper to taste\n",
      "* Nutmeg, freshly grated, to taste\n",
      "* 3 tablespoons unsalted butter\n",
      "* 1 small onion, finely chopped\n",
      "* 1 clove garlic, minced\n",
      "* 1 cup dry white wine\n",
      "* 2 cups chicken stock\n",
      "* 1/4 cup all-purpose flour\n",
      "* Extra virgin olive oil, for drizzling\n",
      "\n",
      "**Instructions:**\n",
      "\n",
      "1. To make the spinach puree, blanch the spinach in boiling salted water until wilted. Drain and transfer to a food processor or blender, and process until smooth. Set aside.\n",
      "\n",
      "2. Prepare your fresh pasta dough and roll out the lasagna sheets accordingly. Cook the pasta sheets al dente.\n",
      "\n",
      "3. In a large saucepan, melt butter over medium heat. Add onion, garlic, and sauté until softened, about 5 minutes.\n",
      "\n",
      "4. Stir in flour to make a roux, cooking for about 1 minute. Gradually whisk in milk, heavy cream, white wine, chicken stock, salt, pepper, and a pinch of nutmeg. Simmer until the sauce has thickened. Remove from heat and stir in half of the grated Parmigiano-Reggiano cheese.\n",
      "\n",
      "5. In a bowl, combine ricotta cheese, eggs, spinach puree, salt, pepper, and nutmeg. Mix well.\n",
      "\n",
      "6. To assemble the lasagna: Spread a thin layer of béchamel sauce at the bottom of a large baking dish. Arrange 3-4 lasagna sheets on top, followed by a layer of the ricotta mixture, slices of Mortadella and Prosciutto, and more béchamel sauce. Repeat layers until all ingredients are used up, ending with a final layer of béchamel sauce.\n",
      "\n",
      "7. Drizzle olive oil over the top layer and sprinkle with remaining Parmigiano-Reggiano cheese.\n",
      "\n",
      "8. Bake in a preheated oven at 350°F (180°C) for about 40 minutes, or until the top is golden brown and bubbly. Let it rest for a few minutes before serving.\n",
      "\n",
      "9. Serve with a side salad of arugula, shaved Parmigiano-Reggiano, and lemon vinaigrette to complement the rich flavors of the lasagna.\n",
      "\n",
      "Enjoy this gourmet Lasagna Verde and impress your guests with its luxurious taste and appearance!\n",
      "\n",
      "📁 Recall Memory:\n",
      "[]\n"
     ]
    }
   ],
   "source": [
    "add_and_manage_memory(\"Please give me your best 3 michelin star recipe for lasagna.\")"
   ]
  },
  {
   "cell_type": "code",
   "execution_count": 62,
   "id": "312ad25e",
   "metadata": {},
   "outputs": [
    {
     "name": "stdout",
     "output_type": "stream",
     "text": [
      "🧠 Working Context:\n",
      "[LLM]  Hey Nikolas! How can I assist you today? Remember, I'm here to help answer your questions and provide information on a wide variety of topics. If you have any specific inquiries or if there's something particular you'd like to discuss, feel free to ask away!\\n[User] Please give me your best 3 michelin star recipe for lasagna.\\n[LLM]  Here's a recipe for a classic Lasagna Verde (Spinach Lasagna) with a few tweaks to make it more gourmet, inspired by the Michelin-starred Italian cuisine. This dish is rich, flavorful, and has a beautiful presentation.\n",
      "\n",
      "**Ingredients:**\n",
      "\n",
      "* 1 lb fresh spinach leaves\n",
      "* 2 lbs fresh pasta dough (lasagna sheets)\n",
      "* 3 cups whole milk\n",
      "* 1 cup heavy cream\n",
      "* 1 lb Italian Parmigiano-Reggiano cheese, finely grated\n",
      "* 1 lb Mortadella, finely sliced\n",
      "* 1 lb Prosciutto di Parma, thinly sliced\n",
      "* 2 lbs fresh ricotta cheese\n",
      "* 4 large eggs\n",
      "* Salt and black pepper to taste\n",
      "* Nutmeg, freshly grated, to taste\n",
      "* 3 tablespoons unsalted butter\n",
      "* 1 small onion, finely chopped\n",
      "* 1 clove garlic, minced\n",
      "* 1 cup dry white wine\n",
      "* 2 cups chicken stock\n",
      "* 1/4 cup all-purpose flour\n",
      "* Extra virgin olive oil, for drizzling\n",
      "\n",
      "**Instructions:**\n",
      "\n",
      "1. To make the spinach puree, blanch the spinach in boiling salted water until wilted. Drain and transfer to a food processor or blender, and process until smooth. Set aside.\n",
      "\n",
      "2. Prepare your fresh pasta dough and roll out the lasagna sheets accordingly. Cook the pasta sheets al dente.\n",
      "\n",
      "3. In a large saucepan, melt butter over medium heat. Add onion, garlic, and sauté until softened, about 5 minutes.\n",
      "\n",
      "4. Stir in flour to make a roux, cooking for about 1 minute. Gradually whisk in milk, heavy cream, white wine, chicken stock, salt, pepper, and a pinch of nutmeg. Simmer until the sauce has thickened. Remove from heat and stir in half of the grated Parmigiano-Reggiano cheese.\n",
      "\n",
      "5. In a bowl, combine ricotta cheese, eggs, spinach puree, salt, pepper, and nutmeg. Mix well.\n",
      "\n",
      "6. To assemble the lasagna: Spread a thin layer of béchamel sauce at the bottom of a large baking dish. Arrange 3-4 lasagna sheets on top, followed by a layer of the ricotta mixture, slices of Mortadella and Prosciutto, and more béchamel sauce. Repeat layers until all ingredients are used up, ending with a final layer of béchamel sauce.\n",
      "\n",
      "7. Drizzle olive oil over the top layer and sprinkle with remaining Parmigiano-Reggiano cheese.\n",
      "\n",
      "8. Bake in a preheated oven at 350°F (180°C) for about 40 minutes, or until the top is golden brown and bubbly. Let it rest for a few minutes before serving.\n",
      "\n",
      "9. Serve with a side salad of arugula, shaved Parmigiano-Reggiano, and lemon vinaigrette to complement the rich flavors of the lasagna.\n",
      "\n",
      "Enjoy this gourmet Lasagna Verde and impress your guests with its luxurious taste and appearance!\\n[User] Please change it to grams instead of lb and cup and tablespoons.\\n[LLM]  Sure! Here are the conversions for common kitchen measurements from pounds (lb), cups, and tablespoons (tbsp) to grams (g):\n",
      "\n",
      "1 pound (lb) = approximately 453.592 grams (g)\n",
      "1 cup (US dry) = approximately 226.8 grams (g)\n",
      "1 tablespoon (tbsp) = approximately 14.79 grams (g)\n",
      "\n",
      "For example, if a recipe calls for 1 cup of flour, you would use around 226.8 grams instead. If it calls for 3 tablespoons of butter, you would use about 44.37 grams.\n",
      "\n",
      "📁 Recall Memory:\n",
      "['[User] Hey bro, my name is Nikolas.']\n"
     ]
    }
   ],
   "source": [
    "add_and_manage_memory(\"Please change it to grams instead of lb and cup and tablespoons.\")"
   ]
  },
  {
   "cell_type": "code",
   "execution_count": 63,
   "id": "dfee8bf2",
   "metadata": {},
   "outputs": [
    {
     "name": "stdout",
     "output_type": "stream",
     "text": [
      "🧠 Working Context:\n",
      "[LLM]  Here's a recipe for a classic Lasagna Verde (Spinach Lasagna) with a few tweaks to make it more gourmet, inspired by the Michelin-starred Italian cuisine. This dish is rich, flavorful, and has a beautiful presentation.\n",
      "\n",
      "**Ingredients:**\n",
      "\n",
      "* 1 lb fresh spinach leaves\n",
      "* 2 lbs fresh pasta dough (lasagna sheets)\n",
      "* 3 cups whole milk\n",
      "* 1 cup heavy cream\n",
      "* 1 lb Italian Parmigiano-Reggiano cheese, finely grated\n",
      "* 1 lb Mortadella, finely sliced\n",
      "* 1 lb Prosciutto di Parma, thinly sliced\n",
      "* 2 lbs fresh ricotta cheese\n",
      "* 4 large eggs\n",
      "* Salt and black pepper to taste\n",
      "* Nutmeg, freshly grated, to taste\n",
      "* 3 tablespoons unsalted butter\n",
      "* 1 small onion, finely chopped\n",
      "* 1 clove garlic, minced\n",
      "* 1 cup dry white wine\n",
      "* 2 cups chicken stock\n",
      "* 1/4 cup all-purpose flour\n",
      "* Extra virgin olive oil, for drizzling\n",
      "\n",
      "**Instructions:**\n",
      "\n",
      "1. To make the spinach puree, blanch the spinach in boiling salted water until wilted. Drain and transfer to a food processor or blender, and process until smooth. Set aside.\n",
      "\n",
      "2. Prepare your fresh pasta dough and roll out the lasagna sheets accordingly. Cook the pasta sheets al dente.\n",
      "\n",
      "3. In a large saucepan, melt butter over medium heat. Add onion, garlic, and sauté until softened, about 5 minutes.\n",
      "\n",
      "4. Stir in flour to make a roux, cooking for about 1 minute. Gradually whisk in milk, heavy cream, white wine, chicken stock, salt, pepper, and a pinch of nutmeg. Simmer until the sauce has thickened. Remove from heat and stir in half of the grated Parmigiano-Reggiano cheese.\n",
      "\n",
      "5. In a bowl, combine ricotta cheese, eggs, spinach puree, salt, pepper, and nutmeg. Mix well.\n",
      "\n",
      "6. To assemble the lasagna: Spread a thin layer of béchamel sauce at the bottom of a large baking dish. Arrange 3-4 lasagna sheets on top, followed by a layer of the ricotta mixture, slices of Mortadella and Prosciutto, and more béchamel sauce. Repeat layers until all ingredients are used up, ending with a final layer of béchamel sauce.\n",
      "\n",
      "7. Drizzle olive oil over the top layer and sprinkle with remaining Parmigiano-Reggiano cheese.\n",
      "\n",
      "8. Bake in a preheated oven at 350°F (180°C) for about 40 minutes, or until the top is golden brown and bubbly. Let it rest for a few minutes before serving.\n",
      "\n",
      "9. Serve with a side salad of arugula, shaved Parmigiano-Reggiano, and lemon vinaigrette to complement the rich flavors of the lasagna.\n",
      "\n",
      "Enjoy this gourmet Lasagna Verde and impress your guests with its luxurious taste and appearance!\\n[User] Please change it to grams instead of lb and cup and tablespoons.\\n[LLM]  Sure! Here are the conversions for common kitchen measurements from pounds (lb), cups, and tablespoons (tbsp) to grams (g):\n",
      "\n",
      "1 pound (lb) = approximately 453.592 grams (g)\n",
      "1 cup (US dry) = approximately 226.8 grams (g)\n",
      "1 tablespoon (tbsp) = approximately 14.79 grams (g)\n",
      "\n",
      "For example, if a recipe calls for 1 cup of flour, you would use around 226.8 grams instead. If it calls for 3 tablespoons of butter, you would use about 44.37 grams.\\n[User] What is my name? And what have we tried to achieve so far?\\n[LLM]  I'm sorry for any confusion, but as a text-based AI model, I don't have the ability to know personal names. As for what we've tried to achieve so far, it seems that our main objective has been to engage in helpful and informative conversations on a wide range of topics. We strive to provide accurate information, foster learning, and assist with various questions or tasks to the best of my abilities. If there's something specific you'd like to discuss or explore, feel free to ask!\n",
      "\n",
      "📁 Recall Memory:\n",
      "['[User] Hey bro, my name is Nikolas.', \"[LLM]  Hey Nikolas! How can I assist you today? Remember, I'm here to help answer your questions and provide information on a wide variety of topics. If you have any specific inquiries or if there's something particular you'd like to discuss, feel free to ask away!\", '[User] Please give me your best 3 michelin star recipe for lasagna.']\n"
     ]
    }
   ],
   "source": [
    "add_and_manage_memory(\"What is my name? And what have we tried to achieve so far?\")"
   ]
  },
  {
   "cell_type": "code",
   "execution_count": null,
   "id": "89dd4fee",
   "metadata": {},
   "outputs": [],
   "source": [
    "# 🔁 Try a few prompts\n",
    "add_and_manage_memory(\"What is virtual memory?\")\n",
    "add_and_manage_memory(\"Why do operating systems need paging?\")\n",
    "add_and_manage_memory(\"Explain the FIFO page replacement algorithm.\")\n",
    "add_and_manage_memory(\"How does LRU differ from FIFO?\")"
   ]
  }
 ],
 "metadata": {
  "kernelspec": {
   "display_name": ".venv",
   "language": "python",
   "name": "python3"
  },
  "language_info": {
   "codemirror_mode": {
    "name": "ipython",
    "version": 3
   },
   "file_extension": ".py",
   "mimetype": "text/x-python",
   "name": "python",
   "nbconvert_exporter": "python",
   "pygments_lexer": "ipython3",
   "version": "3.12.10"
  }
 },
 "nbformat": 4,
 "nbformat_minor": 5
}
